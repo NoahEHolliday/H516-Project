{
  "nbformat": 4,
  "nbformat_minor": 0,
  "metadata": {
    "colab": {
      "provenance": []
    },
    "kernelspec": {
      "name": "python3",
      "display_name": "Python 3"
    },
    "language_info": {
      "name": "python"
    }
  },
  "cells": [
    {
      "cell_type": "markdown",
      "source": [
        "# Preliminaries"
      ],
      "metadata": {
        "id": "Qdo6t15GGKcF"
      }
    },
    {
      "cell_type": "code",
      "execution_count": 1,
      "metadata": {
        "id": "0nPDlmZgGA9R"
      },
      "outputs": [],
      "source": [
        "!apt-get install openjdk-8-jdk-headless -qq > /dev/null\n",
        "!wget -q https://archive.apache.org/dist/spark/spark-3.2.0/spark-3.2.0-bin-hadoop3.2.tgz\n",
        "!tar xf spark-3.2.0-bin-hadoop3.2.tgz\n",
        "!pip install -q findspark"
      ]
    },
    {
      "cell_type": "code",
      "source": [
        "import os\n",
        "os.environ[\"JAVA_HOME\"] = \"/usr/lib/jvm/java-8-openjdk-amd64\"\n",
        "os.environ[\"SPARK_HOME\"] = \"spark-3.2.0-bin-hadoop3.2\""
      ],
      "metadata": {
        "id": "Nbrw28cRGXmF"
      },
      "execution_count": 2,
      "outputs": []
    },
    {
      "cell_type": "code",
      "source": [
        "import findspark\n",
        "findspark.init()"
      ],
      "metadata": {
        "id": "ZJSHQLFVHubl"
      },
      "execution_count": 3,
      "outputs": []
    },
    {
      "cell_type": "code",
      "source": [
        "from pyspark.sql import SparkSession\n",
        "spark = SparkSession.builder.master(\"local[*]\").getOrCreate()\n",
        "sc = spark.sparkContext\n",
        "sc"
      ],
      "metadata": {
        "colab": {
          "base_uri": "https://localhost:8080/",
          "height": 196
        },
        "id": "abDU0umZHvVl",
        "outputId": "8dfce000-820c-4bac-e47a-abfa3f8cf2b8"
      },
      "execution_count": 4,
      "outputs": [
        {
          "output_type": "execute_result",
          "data": {
            "text/plain": [
              "<SparkContext master=local[*] appName=pyspark-shell>"
            ],
            "text/html": [
              "\n",
              "        <div>\n",
              "            <p><b>SparkContext</b></p>\n",
              "\n",
              "            <p><a href=\"http://cab99c9d3848:4040\">Spark UI</a></p>\n",
              "\n",
              "            <dl>\n",
              "              <dt>Version</dt>\n",
              "                <dd><code>v3.2.0</code></dd>\n",
              "              <dt>Master</dt>\n",
              "                <dd><code>local[*]</code></dd>\n",
              "              <dt>AppName</dt>\n",
              "                <dd><code>pyspark-shell</code></dd>\n",
              "            </dl>\n",
              "        </div>\n",
              "        "
            ]
          },
          "metadata": {},
          "execution_count": 4
        }
      ]
    },
    {
      "cell_type": "code",
      "source": [
        "from google.colab import drive\n",
        "drive.mount('/content/drive')"
      ],
      "metadata": {
        "colab": {
          "base_uri": "https://localhost:8080/"
        },
        "id": "VoML81IhKK5V",
        "outputId": "1db43ade-6e1d-4ea6-9c3e-018f99147095"
      },
      "execution_count": 5,
      "outputs": [
        {
          "output_type": "stream",
          "name": "stdout",
          "text": [
            "Mounted at /content/drive\n"
          ]
        }
      ]
    },
    {
      "cell_type": "code",
      "source": [
        "import pyspark.sql\n",
        "from pyspark.sql import Row\n",
        "from pyspark.sql.types import *\n",
        "import json"
      ],
      "metadata": {
        "id": "jQKlRDjRL3ql"
      },
      "execution_count": 6,
      "outputs": []
    },
    {
      "cell_type": "markdown",
      "source": [
        "# Import data"
      ],
      "metadata": {
        "id": "aF3AxEKVL9wU"
      }
    },
    {
      "cell_type": "code",
      "source": [
        "myPath = \"/content/drive/My Drive/H516/\""
      ],
      "metadata": {
        "id": "cd_ks77ZWLEM"
      },
      "execution_count": 7,
      "outputs": []
    },
    {
      "cell_type": "code",
      "source": [
        "rawdataDF = spark.read.csv(myPath + \"spotify_songs_cleaner.csv\", header=\"true\")\n",
        "rawdataDF.createOrReplaceTempView(\"spotify_songs\")"
      ],
      "metadata": {
        "id": "eCf3ljq_U-79"
      },
      "execution_count": 8,
      "outputs": []
    },
    {
      "cell_type": "markdown",
      "source": [
        "# Preview data"
      ],
      "metadata": {
        "id": "2y4puapjnDFb"
      }
    },
    {
      "cell_type": "code",
      "source": [
        "lyricPreview = spark.sql(\"SELECT * FROM spotify_songs \")\n",
        "lyricPreview.show(10)"
      ],
      "metadata": {
        "colab": {
          "base_uri": "https://localhost:8080/"
        },
        "id": "GbfnNO4nWWdc",
        "outputId": "b69b17ae-d29d-46ea-f4f0-db6f4e3c254b"
      },
      "execution_count": 9,
      "outputs": [
        {
          "output_type": "stream",
          "name": "stdout",
          "text": [
            "+--------------------+--------------------+---------------+----------------+--------------------+--------------------+------------------------+--------------------+--------------------+--------------+------------------+------------+------+---+--------+----+-----------+------------+----------------+--------+-------+-------+-----------+--------+--------------------+\n",
            "|            track_id|          track_name|   track_artist|track_popularity|      track_album_id|    track_album_name|track_album_release_date|       playlist_name|         playlist_id|playlist_genre| playlist_subgenre|danceability|energy|key|loudness|mode|speechiness|acousticness|instrumentalness|liveness|valence|  tempo|duration_ms|language|             lyrics2|\n",
            "+--------------------+--------------------+---------------+----------------+--------------------+--------------------+------------------------+--------------------+--------------------+--------------+------------------+------------+------+---+--------+----+-----------+------------+----------------+--------+-------+-------+-----------+--------+--------------------+\n",
            "|0017A6SJgTbfQVU2E...|            Pangarap|Barbie's Cradle|              41|1srJQ0njEQgd8w4XS...|                Trip|                1/1/2001|  Pinoy Classic Rock|37i9dQZF1DWYDQ8wB...|          rock|      classic rock|       0.682| 0.401|  2| -10.068|   1|     0.0236|       0.279|          0.0117|  0.0887|  0.566| 97.091|     235440|      tl|[Minsan pa Nang a...|\n",
            "|004s3t0ONYlzxII9P...|        I Feel Alive|  Steady Rollin|              28|3z04Lb9Dsilqw68SH...|         Love & Loss|              11/21/2017|   Hard Rock Workout|3YouF0u7waJnolytf...|          rock|         hard rock|       0.303|  0.88|  9|  -4.739|   1|     0.0442|      0.0117|         0.00994|   0.347|  0.404|135.225|     373512|      en|[The trees, are s...|\n",
            "|00chLpzhgVjxs1zKC...|              Poison| Bell Biv DeVoe|               0|6oZ6brjB8x3GoeSYd...|                Gold|                1/1/2005|Back in the day -...|3a9y4eeCJRmG9p4YK...|           r&b|    new jack swing|       0.845| 0.652|  6|  -7.504|   0|      0.216|     0.00432|         0.00723|   0.489|   0.65|111.904|     262467|      en|\"[NA Yeah, Spyder...|\n",
            "|00cqd6ZsSkLZqGMlQ...|Baby It's Cold Ou...|    CeeLo Green|              41|3ssspRe42CXkhPxdc...|CeeLo's Magic Moment|              10/29/2012|      Christmas Soul|6FZYc2BvF7tColxO8...|           r&b|          neo soul|       0.425| 0.378|  5|  -5.819|   0|     0.0341|       0.689|               0|  0.0664|  0.405|118.593|     243067|      en|[I really can't s...|\n",
            "|00emjlCv9azBN0fzu...|          Dumb Litty|           KARD|              65|7h5X3xhh3peIK9Y0q...|KARD 2nd Digital ...|               9/22/2019|   K-Party Dance Mix|37i9dQZF1DX4RDXsw...|           pop|         dance pop|        0.76| 0.887|  9|  -1.993|   1|     0.0409|       0.037|               0|   0.138|   0.24|130.018|     193160|      en|[Get up out of my...|\n",
            "|00f9VGHfQhAHMCQ2b...|             Soldier|       James TW|              70|3GNzXsFbzdwM0WKCZ...|            Chapters|               4/26/2019|  urban contemporary|4WiB26kw0INKwbzfb...|           r&b|urban contemporary|       0.496| 0.639|  6|  -6.157|   1|      0.055|        0.28|               0|  0.0975|  0.305|147.764|     224720|      en|[Hold your breath...|\n",
            "|00FROhC5g4iJdax5U...|         Satisfy You|          Diddy|              52|2dHr0LpUe6CNV5lNs...|             Forever|               8/24/1999|Swingbeat (old sk...|3krpccUV68nBGAQbv...|           r&b|    new jack swing|       0.764| 0.594|  6|  -10.05|   1|      0.185|       0.591|               0|   0.145|  0.695| 87.261|     286441|      en|[All I want is so...|\n",
            "|00GfGwzlSB8DoA0cD...|        Tender Lover|       Babyface|              36|51fAXJ5bMn7DRSunX...|        Tender Lover|                7/7/1989|      New Jack Swing|3ykXidKLz1eYPvuGo...|           r&b|    new jack swing|       0.743|  0.86|  5|  -6.346|   1|     0.0445|       0.226|        4.22E-04|  0.0513|  0.687|102.459|     259267|      en|[Feels good Every...|\n",
            "|00Gu3RMpDW2vO9Pjl...|Hide Away (feat. ...|    Blasterjaxx|              42|5pqG85igfoeWcCDIs...|Hide Away (feat. ...|               6/21/2019|Big Room EDM - by...|7xWdFCrU5Gka6qp1O...|           edm|          big room|       0.573| 0.746| 10|  -4.894|   1|     0.0421|      0.0249|               0|   0.361|  0.134|130.001|     188000|      en|[Don't run away, ...|\n",
            "|00GxbkrW4m1Tac5xy...|Ti volevo dedicar...|     Rocco Hunt|              78|57L1NgMlfxscOxHhm...|             Libertà|               8/30/2019|Musica Italiana 2...|6kVFIQBhLT4003iw2...|           r&b|           hip pop|       0.754| 0.725|  8|  -6.058|   1|     0.0661|      0.0104|               0|   0.192|  0.271|120.002|     208133|      it|[Ho una cosa da d...|\n",
            "+--------------------+--------------------+---------------+----------------+--------------------+--------------------+------------------------+--------------------+--------------------+--------------+------------------+------------+------+---+--------+----+-----------+------------+----------------+--------+-------+-------+-----------+--------+--------------------+\n",
            "only showing top 10 rows\n",
            "\n"
          ]
        }
      ]
    },
    {
      "cell_type": "code",
      "source": [
        "lyricGenres = spark.sql(\"SELECT DISTINCT playlist_genre, COUNT(track_id) AS TTL_RCRDS, COUNT(DISTINCT track_id) AS SONG_COUNT FROM spotify_songs WHERE playlist_genre IN('pop','rap','rock','r&b','edm') AND language = 'en' GROUP BY playlist_genre \")\n",
        "lyricGenres.show()"
      ],
      "metadata": {
        "colab": {
          "base_uri": "https://localhost:8080/"
        },
        "id": "mI-ILtFpWeJs",
        "outputId": "6cbfd97c-345b-4edc-ef29-0682771ce43b"
      },
      "execution_count": 10,
      "outputs": [
        {
          "output_type": "stream",
          "name": "stdout",
          "text": [
            "+--------------+---------+----------+\n",
            "|playlist_genre|TTL_RCRDS|SONG_COUNT|\n",
            "+--------------+---------+----------+\n",
            "|           r&b|     3152|      3152|\n",
            "|           pop|     3738|      3738|\n",
            "|           edm|     1758|      1758|\n",
            "|           rap|     2502|      2502|\n",
            "|          rock|     3388|      3388|\n",
            "+--------------+---------+----------+\n",
            "\n"
          ]
        }
      ]
    },
    {
      "cell_type": "markdown",
      "source": [
        "# Filter data for selected genres and language (add more filters if needed)"
      ],
      "metadata": {
        "id": "1Tabf5_tnR5K"
      }
    },
    {
      "cell_type": "code",
      "source": [
        "genres = ['pop','rap','rock','r&b','edm']\n",
        "lyricsR = rawdataDF.rdd.filter(lambda r: r.playlist_genre in genres and r.language == 'en' and r.track_name != 'Dumb Litty' and r.track_album_release_date[-3] != '-').map(lambda r: (r.track_id,r.playlist_genre,r.track_popularity,r.track_album_release_date[-4:],round(float(r.duration_ms)/60000,1),r.lyrics2))\n",
        "lyricsR.take(3)"
      ],
      "metadata": {
        "colab": {
          "base_uri": "https://localhost:8080/"
        },
        "id": "-B9D9MsUgJMV",
        "outputId": "dbc50a86-7fdb-4b4e-d19e-a64a7a365191"
      },
      "execution_count": 11,
      "outputs": [
        {
          "output_type": "execute_result",
          "data": {
            "text/plain": [
              "[('004s3t0ONYlzxII9PLgU6z',\n",
              "  'rock',\n",
              "  '28',\n",
              "  '2017',\n",
              "  6.2,\n",
              "  '[The trees, are singing in the wind The sky blue, only as it can be And the angels, smiled at me I saw you, in that lonely bench At half past four, I kissed your soft soft hands and at 6 I kissed your lips and the angels smiled, I thought Hey I feel alive! The park sign, said it was closed And we jumped that fence with no cares at all and we kissed under a tree We danced, under the midnight sun And I loved you, without knowing you at all and we laughed and felt so free and the angels they smiled, I thought Hey, I feel alive!]'),\n",
              " ('00chLpzhgVjxs1zKC9UScL',\n",
              "  'r&b',\n",
              "  '0',\n",
              "  '2005',\n",
              "  4.4,\n",
              "  '\"[NA Yeah, Spyderman and Freeze in full effect Uh-huh You ready, Ron? I\\'m ready You ready, Biv? I\\'m ready, Slick, are you? Oh, yeah, break it down NA Girl, I, must (warn you) I sense something strange in my mind Situation is (serious) Let\\'s cure it cause we\\'re running out of time It\\'s oh, so (beautiful) Relationships they seem from the start It\\'s all so (deadly) When love is not together from the heart It\\'s drivin\\' me out of my mind! That\\'s why it\\'s HARD for me to find Can\\'t get it out of my head! Miss her, kiss her, love her(Wrong move you\\'re dead!) That girl is (poison)...Never trust a big butt and smile That girl is (poison)..(\"\"POISON!!\"\") NA (-caution) Before I start to meet a fly girl'),\n",
              " ('00cqd6ZsSkLZqGMlQCR0Zo',\n",
              "  'r&b',\n",
              "  '41',\n",
              "  '2012',\n",
              "  4.1,\n",
              "  \"[I really can't stay Baby it's cold outside I've got to go away Baby it's cold out there This evening has been Been hoping that you'd drop in So very nice I'll hold your hands, they're just like ice My mother will start to worry Beautiful, what's your hurry? My father will be pacing the floor Listen to that fireplace roar So really I'd better scurry Beautiful, please don't hurry Well maybe just a half a drink more Why don't you put some records on while I pour The neighbors might think Baby, it's bad out there Say, what's in this drink? No cabs to be had out there I wish I knew how Your eyes are like starlight To break the spell I'll take your hat, your hair looks swell I ought to say no, no, no, sir Mind if I move in closer? At least I'm gonna say that I tried What's the sense in hurting my pride? I really can't stay Baby don't hold out Baby it's cold outside I simply must go See that it's cold outside The answer is no I said it's cold out there This welcome has been How lucky that you dropped in So nice and warm Look out the window at that storm My sister will be suspicious Gosh, your lips look delicious My brother will be there at the door Waves upon a tropical shore My maiden aunt's mind is vicious Oh, your lips are delicious Maybe just a cigarette more Never such a blizzard before Hey I've got to go home Baby, you'll freeze out there Say, lend me your coat It's up to your knees out there You've really been grand I'm thrilled when you touch my hand But don't you see How can you do this thing to me? There's bound to be talk tomorrow Think of my life long sorrow At least there will be plenty implied If you caught pneumonia and died I really can't stay Get over that old lie Baby, baby it's cold outside]\")]"
            ]
          },
          "metadata": {},
          "execution_count": 11
        }
      ]
    },
    {
      "cell_type": "markdown",
      "source": [
        "# Remove punctuation and numbers from lyrics\n",
        "\n",
        "> Indented block\n",
        "\n"
      ],
      "metadata": {
        "id": "3HncrI2IDgjr"
      }
    },
    {
      "cell_type": "code",
      "source": [
        "import string"
      ],
      "metadata": {
        "id": "AkrnAXxaC1bp"
      },
      "execution_count": 12,
      "outputs": []
    },
    {
      "cell_type": "code",
      "source": [
        "#remove punctuation\n",
        "wordsR = lyricsR.map(lambda x:(x[0],x[1],x[2],x[3],x[4],x[5].translate(str.maketrans('','',string.punctuation))))\n",
        "wordsR.take(2)"
      ],
      "metadata": {
        "colab": {
          "base_uri": "https://localhost:8080/"
        },
        "id": "W0rmQxd6CyUC",
        "outputId": "09dc436c-104b-4fbf-f467-003bb72fa216"
      },
      "execution_count": 13,
      "outputs": [
        {
          "output_type": "execute_result",
          "data": {
            "text/plain": [
              "[('004s3t0ONYlzxII9PLgU6z',\n",
              "  'rock',\n",
              "  '28',\n",
              "  '2017',\n",
              "  6.2,\n",
              "  'The trees are singing in the wind The sky blue only as it can be And the angels smiled at me I saw you in that lonely bench At half past four I kissed your soft soft hands and at 6 I kissed your lips and the angels smiled I thought Hey I feel alive The park sign said it was closed And we jumped that fence with no cares at all and we kissed under a tree We danced under the midnight sun And I loved you without knowing you at all and we laughed and felt so free and the angels they smiled I thought Hey I feel alive'),\n",
              " ('00chLpzhgVjxs1zKC9UScL',\n",
              "  'r&b',\n",
              "  '0',\n",
              "  '2005',\n",
              "  4.4,\n",
              "  'NA Yeah Spyderman and Freeze in full effect Uhhuh You ready Ron Im ready You ready Biv Im ready Slick are you Oh yeah break it down NA Girl I must warn you I sense something strange in my mind Situation is serious Lets cure it cause were running out of time Its oh so beautiful Relationships they seem from the start Its all so deadly When love is not together from the heart Its drivin me out of my mind Thats why its HARD for me to find Cant get it out of my head Miss her kiss her love herWrong move youre dead That girl is poisonNever trust a big butt and smile That girl is poisonPOISON NA caution Before I start to meet a fly girl')]"
            ]
          },
          "metadata": {},
          "execution_count": 13
        }
      ]
    },
    {
      "cell_type": "code",
      "source": [
        "#remove numbers\n",
        "wordsR2 = wordsR.map(lambda x:(x[0],x[1],x[2],x[3],x[4],x[5].translate(str.maketrans('','',string.digits))))\n",
        "wordsR2.take(2)"
      ],
      "metadata": {
        "colab": {
          "base_uri": "https://localhost:8080/"
        },
        "id": "whzEQTejXicb",
        "outputId": "73a0d7f5-e023-45db-b756-f75a45ffcec8"
      },
      "execution_count": 14,
      "outputs": [
        {
          "output_type": "execute_result",
          "data": {
            "text/plain": [
              "[('004s3t0ONYlzxII9PLgU6z',\n",
              "  'rock',\n",
              "  '28',\n",
              "  '2017',\n",
              "  6.2,\n",
              "  'The trees are singing in the wind The sky blue only as it can be And the angels smiled at me I saw you in that lonely bench At half past four I kissed your soft soft hands and at  I kissed your lips and the angels smiled I thought Hey I feel alive The park sign said it was closed And we jumped that fence with no cares at all and we kissed under a tree We danced under the midnight sun And I loved you without knowing you at all and we laughed and felt so free and the angels they smiled I thought Hey I feel alive'),\n",
              " ('00chLpzhgVjxs1zKC9UScL',\n",
              "  'r&b',\n",
              "  '0',\n",
              "  '2005',\n",
              "  4.4,\n",
              "  'NA Yeah Spyderman and Freeze in full effect Uhhuh You ready Ron Im ready You ready Biv Im ready Slick are you Oh yeah break it down NA Girl I must warn you I sense something strange in my mind Situation is serious Lets cure it cause were running out of time Its oh so beautiful Relationships they seem from the start Its all so deadly When love is not together from the heart Its drivin me out of my mind Thats why its HARD for me to find Cant get it out of my head Miss her kiss her love herWrong move youre dead That girl is poisonNever trust a big butt and smile That girl is poisonPOISON NA caution Before I start to meet a fly girl')]"
            ]
          },
          "metadata": {},
          "execution_count": 14
        }
      ]
    },
    {
      "cell_type": "markdown",
      "source": [
        "# Add the total number of words, and the number of stopwords and profane words"
      ],
      "metadata": {
        "id": "tqzjcs3vMmoH"
      }
    },
    {
      "cell_type": "code",
      "source": [
        "!pip install profanity\n"
      ],
      "metadata": {
        "colab": {
          "base_uri": "https://localhost:8080/"
        },
        "id": "zcGkLBsBwMKk",
        "outputId": "d1431748-d2b8-4019-fedd-8db97b8451d8"
      },
      "execution_count": 15,
      "outputs": [
        {
          "output_type": "stream",
          "name": "stdout",
          "text": [
            "Looking in indexes: https://pypi.org/simple, https://us-python.pkg.dev/colab-wheels/public/simple/\n",
            "Collecting profanity\n",
            "  Downloading profanity-1.1.tar.gz (3.2 kB)\n",
            "  Preparing metadata (setup.py) ... \u001b[?25l\u001b[?25hdone\n",
            "Building wheels for collected packages: profanity\n",
            "  Building wheel for profanity (setup.py) ... \u001b[?25l\u001b[?25hdone\n",
            "  Created wheel for profanity: filename=profanity-1.1-py3-none-any.whl size=4253 sha256=80330558ac253300f586f48d9f2761b30643e77fc7f4e4f1c4ad04aa218b07a1\n",
            "  Stored in directory: /root/.cache/pip/wheels/d6/62/ce/2d1388b4998148d18bc3fd287105fe25f63ed695e287928ef1\n",
            "Successfully built profanity\n",
            "Installing collected packages: profanity\n",
            "Successfully installed profanity-1.1\n"
          ]
        }
      ]
    },
    {
      "cell_type": "code",
      "source": [
        "from profanity import profanity"
      ],
      "metadata": {
        "id": "D-4B8OPHFH8r"
      },
      "execution_count": 16,
      "outputs": []
    },
    {
      "cell_type": "code",
      "source": [
        "import nltk\n",
        "nltk.download(\"punkt\")"
      ],
      "metadata": {
        "colab": {
          "base_uri": "https://localhost:8080/"
        },
        "id": "fkUIadygUX1b",
        "outputId": "486e4413-caec-45ea-c25c-246f96d92f58"
      },
      "execution_count": 17,
      "outputs": [
        {
          "output_type": "stream",
          "name": "stderr",
          "text": [
            "[nltk_data] Downloading package punkt to /root/nltk_data...\n",
            "[nltk_data]   Unzipping tokenizers/punkt.zip.\n"
          ]
        },
        {
          "output_type": "execute_result",
          "data": {
            "text/plain": [
              "True"
            ]
          },
          "metadata": {},
          "execution_count": 17
        }
      ]
    },
    {
      "cell_type": "code",
      "source": [
        "nltk.download('stopwords')\n",
        "from nltk.corpus import stopwords"
      ],
      "metadata": {
        "colab": {
          "base_uri": "https://localhost:8080/"
        },
        "id": "abYpi_GOki7i",
        "outputId": "4fb18f50-8cf1-480b-9536-3cfdcd8eaf79"
      },
      "execution_count": 18,
      "outputs": [
        {
          "output_type": "stream",
          "name": "stderr",
          "text": [
            "[nltk_data] Downloading package stopwords to /root/nltk_data...\n",
            "[nltk_data]   Unzipping corpora/stopwords.zip.\n"
          ]
        }
      ]
    },
    {
      "cell_type": "code",
      "source": [
        "english_stopwprds = stopwords.words('english')"
      ],
      "metadata": {
        "id": "3YM-EDpXlRlq"
      },
      "execution_count": 19,
      "outputs": []
    },
    {
      "cell_type": "code",
      "source": [
        "#use the positive word list from assignment 4\n",
        "poswordsR = sc.textFile(myPath + \"pos.txt\")\n",
        "poswordsR.take(5)"
      ],
      "metadata": {
        "colab": {
          "base_uri": "https://localhost:8080/"
        },
        "id": "xyzzwgGPSD8R",
        "outputId": "382ba9e2-bd5f-48d3-df7e-c44aa3d7b816"
      },
      "execution_count": 20,
      "outputs": [
        {
          "output_type": "execute_result",
          "data": {
            "text/plain": [
              "['abound', 'abounds', 'abundance', 'abundant', 'accessable']"
            ]
          },
          "metadata": {},
          "execution_count": 20
        }
      ]
    },
    {
      "cell_type": "code",
      "source": [
        "#use the negative word list from assignment 4\n",
        "negwordsR = sc.textFile(myPath + \"neg.txt\")\n",
        "negwordsR.take(5)"
      ],
      "metadata": {
        "id": "OaquhH7JSRCH",
        "colab": {
          "base_uri": "https://localhost:8080/"
        },
        "outputId": "236e019e-28ec-4d42-8c83-23f2846e047a"
      },
      "execution_count": 21,
      "outputs": [
        {
          "output_type": "execute_result",
          "data": {
            "text/plain": [
              "['abnormal', 'abolish', 'abominable', 'abominably', 'abominate']"
            ]
          },
          "metadata": {},
          "execution_count": 21
        }
      ]
    },
    {
      "cell_type": "code",
      "source": [
        "#get python lists of positive an negative words from input files\n",
        "poswords = poswordsR.collect()\n",
        "negwords = negwordsR.collect()"
      ],
      "metadata": {
        "id": "Q9InCOzLAf_0"
      },
      "execution_count": 22,
      "outputs": []
    },
    {
      "cell_type": "code",
      "source": [
        "#create a function to calculate the number of words in the song\n",
        "getLength = lambda x: len(x.split())"
      ],
      "metadata": {
        "id": "R0Ln2H5TODA3"
      },
      "execution_count": 23,
      "outputs": []
    },
    {
      "cell_type": "code",
      "source": [
        "#create a function to calculate the number of stop words in the song\n",
        "getStopCount = lambda x: len([x.split()[stopword] for stopword in range(len(x.split())) if x.split()[stopword] in english_stopwprds])"
      ],
      "metadata": {
        "id": "onB4hD8rOnem"
      },
      "execution_count": 24,
      "outputs": []
    },
    {
      "cell_type": "code",
      "source": [
        "#create a function to calculate the number of profane words in the song\n",
        "getProfaneCount = lambda x: len([x.split()[badword] for badword in range(len(x.split())) if profanity.contains_profanity(x.split()[badword]) == True])"
      ],
      "metadata": {
        "id": "00o_nBTbPzcl"
      },
      "execution_count": 25,
      "outputs": []
    },
    {
      "cell_type": "code",
      "source": [
        "#create a function to measure the amount of repetition in a song\n",
        "getUniqueCount = lambda x: len(set([x.split()[unique] for unique in range(len(x.split())) if x.split()[unique] not in english_stopwprds]))"
      ],
      "metadata": {
        "id": "UJ_DosmqWSff"
      },
      "execution_count": 26,
      "outputs": []
    },
    {
      "cell_type": "code",
      "source": [
        "#create a function to calculate the number of positive words in the song\n",
        "getPositiveCount = lambda x: len([x.split()[posword] for posword in range(len(x.split())) if x.split()[posword] in poswords])"
      ],
      "metadata": {
        "id": "wvaGZorZZROX"
      },
      "execution_count": 27,
      "outputs": []
    },
    {
      "cell_type": "code",
      "source": [
        "#create a function to calculate the number of positive words in the song\n",
        "getNegativeCount = lambda x: len([x.split()[negword] for negword in range(len(x.split())) if x.split()[negword] in negwords])"
      ],
      "metadata": {
        "id": "vpkT5ODJdHS_"
      },
      "execution_count": 28,
      "outputs": []
    },
    {
      "cell_type": "code",
      "source": [
        "extrColsR = wordsR.map(lambda x: (x[0],x[1],x[2],int(x[3]),x[4],getLength(x[5]),int(getLength(x[5])/x[4]), getUniqueCount(x[5]), round((1-getUniqueCount(x[5])/getLength(x[5])),2), getStopCount(x[5]),round((getStopCount(x[5])/getLength(x[5])),2), getProfaneCount(x[5]),round((getProfaneCount(x[5])/getLength(x[5])),2), getPositiveCount(x[5]),round((getPositiveCount(x[5])/getLength(x[5])),2), getNegativeCount(x[5]),round((getNegativeCount(x[5])/getLength(x[5])),2), x[5]))\n",
        "extrColsR.take(2)"
      ],
      "metadata": {
        "colab": {
          "base_uri": "https://localhost:8080/"
        },
        "id": "cXfmKmkbG5Xd",
        "outputId": "103c2682-9db5-42c7-924f-7f3de280d1f4"
      },
      "execution_count": 29,
      "outputs": [
        {
          "output_type": "execute_result",
          "data": {
            "text/plain": [
              "[('004s3t0ONYlzxII9PLgU6z',\n",
              "  'rock',\n",
              "  '28',\n",
              "  2017,\n",
              "  6.2,\n",
              "  111,\n",
              "  17,\n",
              "  44,\n",
              "  0.6,\n",
              "  45,\n",
              "  0.41,\n",
              "  0,\n",
              "  0.0,\n",
              "  4,\n",
              "  0.04,\n",
              "  1,\n",
              "  0.01,\n",
              "  'The trees are singing in the wind The sky blue only as it can be And the angels smiled at me I saw you in that lonely bench At half past four I kissed your soft soft hands and at 6 I kissed your lips and the angels smiled I thought Hey I feel alive The park sign said it was closed And we jumped that fence with no cares at all and we kissed under a tree We danced under the midnight sun And I loved you without knowing you at all and we laughed and felt so free and the angels they smiled I thought Hey I feel alive'),\n",
              " ('00chLpzhgVjxs1zKC9UScL',\n",
              "  'r&b',\n",
              "  '0',\n",
              "  2005,\n",
              "  4.4,\n",
              "  129,\n",
              "  29,\n",
              "  67,\n",
              "  0.48,\n",
              "  45,\n",
              "  0.35,\n",
              "  0,\n",
              "  0.0,\n",
              "  10,\n",
              "  0.08,\n",
              "  4,\n",
              "  0.03,\n",
              "  'NA Yeah Spyderman and Freeze in full effect Uhhuh You ready Ron Im ready You ready Biv Im ready Slick are you Oh yeah break it down NA Girl I must warn you I sense something strange in my mind Situation is serious Lets cure it cause were running out of time Its oh so beautiful Relationships they seem from the start Its all so deadly When love is not together from the heart Its drivin me out of my mind Thats why its HARD for me to find Cant get it out of my head Miss her kiss her love herWrong move youre dead That girl is poisonNever trust a big butt and smile That girl is poisonPOISON NA caution Before I start to meet a fly girl')]"
            ]
          },
          "metadata": {},
          "execution_count": 29
        }
      ]
    },
    {
      "cell_type": "code",
      "source": [
        "labeledR = extrColsR.map(lambda p: Row(track_id=p[0],genre=p[1],popularity=p[2],year=p[3],minutes=p[4], word_count=p[5], words_per_minute=p[6],unique_words=p[7], repetition_pct=p[8],stopword_count=p[9],stopword_pct=p[10],profanity_count=p[11],profanity_pct=p[12],positive_count=p[13],positive_pct=p[14],negative_count=p[15],negative_pct=p[16], lyrics=p[17]))\n",
        "labeledR.take(3)"
      ],
      "metadata": {
        "colab": {
          "base_uri": "https://localhost:8080/"
        },
        "id": "rIzrDVy_gJzg",
        "outputId": "1810bb51-8d88-4c6b-bc6d-2d8c5de6d113"
      },
      "execution_count": 30,
      "outputs": [
        {
          "output_type": "execute_result",
          "data": {
            "text/plain": [
              "[Row(track_id='004s3t0ONYlzxII9PLgU6z', genre='rock', popularity='28', year=2017, minutes=6.2, word_count=111, words_per_minute=17, unique_words=44, repetition_pct=0.6, stopword_count=45, stopword_pct=0.41, profanity_count=0, profanity_pct=0.0, positive_count=4, positive_pct=0.04, negative_count=1, negative_pct=0.01, lyrics='The trees are singing in the wind The sky blue only as it can be And the angels smiled at me I saw you in that lonely bench At half past four I kissed your soft soft hands and at 6 I kissed your lips and the angels smiled I thought Hey I feel alive The park sign said it was closed And we jumped that fence with no cares at all and we kissed under a tree We danced under the midnight sun And I loved you without knowing you at all and we laughed and felt so free and the angels they smiled I thought Hey I feel alive'),\n",
              " Row(track_id='00chLpzhgVjxs1zKC9UScL', genre='r&b', popularity='0', year=2005, minutes=4.4, word_count=129, words_per_minute=29, unique_words=67, repetition_pct=0.48, stopword_count=45, stopword_pct=0.35, profanity_count=0, profanity_pct=0.0, positive_count=10, positive_pct=0.08, negative_count=4, negative_pct=0.03, lyrics='NA Yeah Spyderman and Freeze in full effect Uhhuh You ready Ron Im ready You ready Biv Im ready Slick are you Oh yeah break it down NA Girl I must warn you I sense something strange in my mind Situation is serious Lets cure it cause were running out of time Its oh so beautiful Relationships they seem from the start Its all so deadly When love is not together from the heart Its drivin me out of my mind Thats why its HARD for me to find Cant get it out of my head Miss her kiss her love herWrong move youre dead That girl is poisonNever trust a big butt and smile That girl is poisonPOISON NA caution Before I start to meet a fly girl'),\n",
              " Row(track_id='00cqd6ZsSkLZqGMlQCR0Zo', genre='r&b', popularity='41', year=2012, minutes=4.1, word_count=341, words_per_minute=83, unique_words=155, repetition_pct=0.55, stopword_count=123, stopword_pct=0.36, profanity_count=0, profanity_pct=0.0, positive_count=13, positive_pct=0.04, negative_count=16, negative_pct=0.05, lyrics='I really cant stay Baby its cold outside Ive got to go away Baby its cold out there This evening has been Been hoping that youd drop in So very nice Ill hold your hands theyre just like ice My mother will start to worry Beautiful whats your hurry My father will be pacing the floor Listen to that fireplace roar So really Id better scurry Beautiful please dont hurry Well maybe just a half a drink more Why dont you put some records on while I pour The neighbors might think Baby its bad out there Say whats in this drink No cabs to be had out there I wish I knew how Your eyes are like starlight To break the spell Ill take your hat your hair looks swell I ought to say no no no sir Mind if I move in closer At least Im gonna say that I tried Whats the sense in hurting my pride I really cant stay Baby dont hold out Baby its cold outside I simply must go See that its cold outside The answer is no I said its cold out there This welcome has been How lucky that you dropped in So nice and warm Look out the window at that storm My sister will be suspicious Gosh your lips look delicious My brother will be there at the door Waves upon a tropical shore My maiden aunts mind is vicious Oh your lips are delicious Maybe just a cigarette more Never such a blizzard before Hey Ive got to go home Baby youll freeze out there Say lend me your coat Its up to your knees out there Youve really been grand Im thrilled when you touch my hand But dont you see How can you do this thing to me Theres bound to be talk tomorrow Think of my life long sorrow At least there will be plenty implied If you caught pneumonia and died I really cant stay Get over that old lie Baby baby its cold outside')]"
            ]
          },
          "metadata": {},
          "execution_count": 30
        }
      ]
    },
    {
      "cell_type": "code",
      "source": [
        "%%time\n",
        "labeledDF = spark.createDataFrame(labeledR)\n",
        "labeledDF.show(5)"
      ],
      "metadata": {
        "colab": {
          "base_uri": "https://localhost:8080/"
        },
        "id": "QFWoerIR0dvX",
        "outputId": "06c350f0-3880-49d9-d055-0aefef58693a"
      },
      "execution_count": 31,
      "outputs": [
        {
          "output_type": "stream",
          "name": "stdout",
          "text": [
            "+--------------------+-----+----------+----+-------+----------+----------------+------------+--------------+--------------+------------+---------------+-------------+--------------+------------+--------------+------------+--------------------+\n",
            "|            track_id|genre|popularity|year|minutes|word_count|words_per_minute|unique_words|repetition_pct|stopword_count|stopword_pct|profanity_count|profanity_pct|positive_count|positive_pct|negative_count|negative_pct|              lyrics|\n",
            "+--------------------+-----+----------+----+-------+----------+----------------+------------+--------------+--------------+------------+---------------+-------------+--------------+------------+--------------+------------+--------------------+\n",
            "|004s3t0ONYlzxII9P...| rock|        28|2017|    6.2|       111|              17|          44|           0.6|            45|        0.41|              0|          0.0|             4|        0.04|             1|        0.01|The trees are sin...|\n",
            "|00chLpzhgVjxs1zKC...|  r&b|         0|2005|    4.4|       129|              29|          67|          0.48|            45|        0.35|              0|          0.0|            10|        0.08|             4|        0.03|NA Yeah Spyderman...|\n",
            "|00cqd6ZsSkLZqGMlQ...|  r&b|        41|2012|    4.1|       341|              83|         155|          0.55|           123|        0.36|              0|          0.0|            13|        0.04|            16|        0.05|I really cant sta...|\n",
            "|00f9VGHfQhAHMCQ2b...|  r&b|        70|2019|    3.7|       359|              97|         101|          0.72|           154|        0.43|              0|          0.0|            13|        0.04|            10|        0.03|Hold your breath ...|\n",
            "|00FROhC5g4iJdax5U...|  r&b|        52|1999|    4.8|       634|             132|         236|          0.63|           274|        0.43|              1|          0.0|            33|        0.05|            19|        0.03|All I want is som...|\n",
            "+--------------------+-----+----------+----+-------+----------+----------------+------------+--------------+--------------+------------+---------------+-------------+--------------+------------+--------------+------------+--------------------+\n",
            "only showing top 5 rows\n",
            "\n",
            "CPU times: user 475 ms, sys: 36 ms, total: 511 ms\n",
            "Wall time: 24.2 s\n"
          ]
        }
      ]
    },
    {
      "cell_type": "markdown",
      "source": [
        "# Save the data to a file so that it will not have to be recalculated every time"
      ],
      "metadata": {
        "id": "ysJKTWVQlZiX"
      }
    },
    {
      "cell_type": "code",
      "source": [
        "#save the enhanced data frame to a csv file so that we will not have to recalulate it every time\n",
        "%%time\n",
        "labeledDF.write.mode('overwrite').options(header='True', delimiter='~').csv(myPath + \"more_lyric_columns.csv\")"
      ],
      "metadata": {
        "id": "8PlvB1vl7ZIL"
      },
      "execution_count": 37,
      "outputs": []
    },
    {
      "cell_type": "markdown",
      "source": [
        "#Read the file in again to do more analysis without recreating the data every time"
      ],
      "metadata": {
        "id": "m4zQjDbLl34P"
      }
    },
    {
      "cell_type": "code",
      "source": [
        "from pyspark.sql.types import StructField, StructType, StringType,LongType"
      ],
      "metadata": {
        "id": "c3Ph7furOFD0"
      },
      "execution_count": 41,
      "outputs": []
    },
    {
      "cell_type": "code",
      "source": [
        "custom_schema = StructType([\n",
        "    StructField(\"track_id\", StringType(), False),\n",
        "    StructField(\"genre\", StringType(), False),\n",
        "    StructField(\"popularity\", IntegerType(), False),\n",
        "    StructField(\"year\", IntegerType(), False),\n",
        "    StructField(\"minutes\", FloatType(), False),\n",
        "    StructField(\"word_count\", IntegerType(), False),\n",
        "    StructField(\"words_per_minute\", FloatType(), False),\n",
        "    StructField(\"unique_words\", IntegerType(), False),\n",
        "    StructField(\"repetition_pct\", FloatType(), False),\n",
        "    StructField(\"stopword_count\", IntegerType(), False),\n",
        "    StructField(\"stopword_pct\", FloatType(), False),\n",
        "    StructField(\"profanity_count\", IntegerType(), False),\n",
        "    StructField(\"profanity_pct\", FloatType(), False),\n",
        "    StructField(\"positive_count\", IntegerType(), False),\n",
        "    StructField(\"positive_pct\", FloatType(), False),\n",
        "    StructField(\"negative_count\", IntegerType(), False),\n",
        "    StructField(\"negative_pct\", FloatType(), False),\n",
        "    StructField(\"words_only_lyrics\", StringType(),False)\n",
        "])"
      ],
      "metadata": {
        "id": "di1ofrObN6LL"
      },
      "execution_count": 43,
      "outputs": []
    },
    {
      "cell_type": "code",
      "source": [
        "newDF = spark.read.schema(custom_schema).option(\"header\", True).option(\"delimiter\", \"~\").csv(myPath + \"more_lyric_columns.csv\")\n",
        "newDF.show(5)"
      ],
      "metadata": {
        "colab": {
          "base_uri": "https://localhost:8080/"
        },
        "id": "R4CDlSU0a9Ue",
        "outputId": "fa4f8934-4590-4e67-f6f8-257efa2cfbac"
      },
      "execution_count": 47,
      "outputs": [
        {
          "output_type": "stream",
          "name": "stdout",
          "text": [
            "+--------------------+-----+----------+----+-------+----------+----------------+------------+--------------+--------------+------------+---------------+-------------+--------------+------------+--------------+------------+--------------------+\n",
            "|            track_id|genre|popularity|year|minutes|word_count|words_per_minute|unique_words|repetition_pct|stopword_count|stopword_pct|profanity_count|profanity_pct|positive_count|positive_pct|negative_count|negative_pct|   words_only_lyrics|\n",
            "+--------------------+-----+----------+----+-------+----------+----------------+------------+--------------+--------------+------------+---------------+-------------+--------------+------------+--------------+------------+--------------------+\n",
            "|004s3t0ONYlzxII9P...| rock|        28|2017|    6.2|       111|            17.0|          44|           0.6|            45|        0.41|              0|          0.0|             4|        0.04|             1|        0.01|The trees are sin...|\n",
            "|00chLpzhgVjxs1zKC...|  r&b|         0|2005|    4.4|       129|            29.0|          67|          0.48|            45|        0.35|              0|          0.0|            10|        0.08|             4|        0.03|NA Yeah Spyderman...|\n",
            "|00cqd6ZsSkLZqGMlQ...|  r&b|        41|2012|    4.1|       341|            83.0|         155|          0.55|           123|        0.36|              0|          0.0|            13|        0.04|            16|        0.05|I really cant sta...|\n",
            "|00f9VGHfQhAHMCQ2b...|  r&b|        70|2019|    3.7|       359|            97.0|         101|          0.72|           154|        0.43|              0|          0.0|            13|        0.04|            10|        0.03|Hold your breath ...|\n",
            "|00FROhC5g4iJdax5U...|  r&b|        52|1999|    4.8|       634|           132.0|         236|          0.63|           274|        0.43|              1|          0.0|            33|        0.05|            19|        0.03|All I want is som...|\n",
            "+--------------------+-----+----------+----+-------+----------+----------------+------------+--------------+--------------+------------+---------------+-------------+--------------+------------+--------------+------------+--------------------+\n",
            "only showing top 5 rows\n",
            "\n"
          ]
        }
      ]
    },
    {
      "cell_type": "code",
      "source": [
        "#Convert genres to numberic values\n",
        "classes = {'rock':0,'pop':1,'r&b':2,'rap':3,'edm':4}"
      ],
      "metadata": {
        "id": "Gt-l93wZ8dDN"
      },
      "execution_count": 48,
      "outputs": []
    },
    {
      "cell_type": "code",
      "source": [
        "#reset the fields to numeric values and remove old years (since 50s and 60s songs were much different than songs starting in the 70s)\n",
        "newR = newDF.rdd.map(lambda x: (x[0],x[1],classes[x[1]],int(x[2]),int(int(x[3])/10)*10,round(float(x[4]),1), int(x[5]), int(x[6]),int(x[7]),round(float(x[8]),3),round(float(x[10]),3),int(x[11]),round(float(x[12]),4),int(x[13]),round(float(x[14]),3),int(x[15]),round(float(x[16]),3),x[17])).filter(lambda x: x[4] >= 1970)\n",
        "newR.take(2)"
      ],
      "metadata": {
        "colab": {
          "base_uri": "https://localhost:8080/"
        },
        "id": "ilFkfPijUSHF",
        "outputId": "ab5c5054-8594-4def-cf5e-6ec13047dcf0"
      },
      "execution_count": 74,
      "outputs": [
        {
          "output_type": "execute_result",
          "data": {
            "text/plain": [
              "[('004s3t0ONYlzxII9PLgU6z',\n",
              "  'rock',\n",
              "  0,\n",
              "  28,\n",
              "  2010,\n",
              "  6.2,\n",
              "  111,\n",
              "  17,\n",
              "  44,\n",
              "  0.6,\n",
              "  0.41,\n",
              "  0,\n",
              "  0.0,\n",
              "  4,\n",
              "  0.04,\n",
              "  1,\n",
              "  0.01,\n",
              "  'The trees are singing in the wind The sky blue only as it can be And the angels smiled at me I saw you in that lonely bench At half past four I kissed your soft soft hands and at 6 I kissed your lips and the angels smiled I thought Hey I feel alive The park sign said it was closed And we jumped that fence with no cares at all and we kissed under a tree We danced under the midnight sun And I loved you without knowing you at all and we laughed and felt so free and the angels they smiled I thought Hey I feel alive'),\n",
              " ('00chLpzhgVjxs1zKC9UScL',\n",
              "  'r&b',\n",
              "  2,\n",
              "  0,\n",
              "  2000,\n",
              "  4.4,\n",
              "  129,\n",
              "  29,\n",
              "  67,\n",
              "  0.48,\n",
              "  0.35,\n",
              "  0,\n",
              "  0.0,\n",
              "  10,\n",
              "  0.08,\n",
              "  4,\n",
              "  0.03,\n",
              "  'NA Yeah Spyderman and Freeze in full effect Uhhuh You ready Ron Im ready You ready Biv Im ready Slick are you Oh yeah break it down NA Girl I must warn you I sense something strange in my mind Situation is serious Lets cure it cause were running out of time Its oh so beautiful Relationships they seem from the start Its all so deadly When love is not together from the heart Its drivin me out of my mind Thats why its HARD for me to find Cant get it out of my head Miss her kiss her love herWrong move youre dead That girl is poisonNever trust a big butt and smile That girl is poisonPOISON NA caution Before I start to meet a fly girl')]"
            ]
          },
          "metadata": {},
          "execution_count": 74
        }
      ]
    },
    {
      "cell_type": "code",
      "source": [
        "#relabel the fields\n",
        "newLabeledR = newR.map(lambda p: Row(track_id=p[0], genre=p[1], genreID=p[2], popularity=p[3], year=p[4], minutes=p[5], word_count=p[6], words_per_minute=p[7],unique_words=p[8], repetition_pct=p[9], stopword_pct=p[10], profanity_count=p[11], profanity_pct=p[12], positive_count=p[13], positive_pct=p[14], negative_count=p[15], negative_pct=p[16], lyrics=p[17]))\n",
        "newLabeledR.take(2)"
      ],
      "metadata": {
        "colab": {
          "base_uri": "https://localhost:8080/"
        },
        "id": "P0stk5o6GRq9",
        "outputId": "b288f4fb-53f8-41fc-a2d5-9dd260ee9439"
      },
      "execution_count": 75,
      "outputs": [
        {
          "output_type": "execute_result",
          "data": {
            "text/plain": [
              "[Row(track_id='004s3t0ONYlzxII9PLgU6z', genre='rock', genreID=0, popularity=28, year=2010, minutes=6.2, word_count=111, words_per_minute=17, unique_words=44, repetition_pct=0.6, stopword_pct=0.41, profanity_count=0, profanity_pct=0.0, positive_count=4, positive_pct=0.04, negative_count=1, negative_pct=0.01, lyrics='The trees are singing in the wind The sky blue only as it can be And the angels smiled at me I saw you in that lonely bench At half past four I kissed your soft soft hands and at 6 I kissed your lips and the angels smiled I thought Hey I feel alive The park sign said it was closed And we jumped that fence with no cares at all and we kissed under a tree We danced under the midnight sun And I loved you without knowing you at all and we laughed and felt so free and the angels they smiled I thought Hey I feel alive'),\n",
              " Row(track_id='00chLpzhgVjxs1zKC9UScL', genre='r&b', genreID=2, popularity=0, year=2000, minutes=4.4, word_count=129, words_per_minute=29, unique_words=67, repetition_pct=0.48, stopword_pct=0.35, profanity_count=0, profanity_pct=0.0, positive_count=10, positive_pct=0.08, negative_count=4, negative_pct=0.03, lyrics='NA Yeah Spyderman and Freeze in full effect Uhhuh You ready Ron Im ready You ready Biv Im ready Slick are you Oh yeah break it down NA Girl I must warn you I sense something strange in my mind Situation is serious Lets cure it cause were running out of time Its oh so beautiful Relationships they seem from the start Its all so deadly When love is not together from the heart Its drivin me out of my mind Thats why its HARD for me to find Cant get it out of my head Miss her kiss her love herWrong move youre dead That girl is poisonNever trust a big butt and smile That girl is poisonPOISON NA caution Before I start to meet a fly girl')]"
            ]
          },
          "metadata": {},
          "execution_count": 75
        }
      ]
    },
    {
      "cell_type": "code",
      "source": [
        "newLabeledDF = spark.createDataFrame(newLabeledR)\n",
        "newLabeledDF.createOrReplaceTempView(\"lyric_features\")"
      ],
      "metadata": {
        "id": "HzvELxOj40Hy"
      },
      "execution_count": 76,
      "outputs": []
    },
    {
      "cell_type": "markdown",
      "source": [
        "# Review the new data set"
      ],
      "metadata": {
        "id": "wM1jqTyF4mgW"
      }
    },
    {
      "cell_type": "code",
      "source": [
        "checkYears = spark.sql(\"SELECT DISTINCT year FROM lyric_features ORDER BY year\")\n",
        "checkYears.show(100)"
      ],
      "metadata": {
        "colab": {
          "base_uri": "https://localhost:8080/"
        },
        "id": "Z8VXWO4f8-4W",
        "outputId": "99ee85f4-8f7a-4f27-d61d-6563bae3d76f"
      },
      "execution_count": 64,
      "outputs": [
        {
          "output_type": "stream",
          "name": "stdout",
          "text": [
            "+----+\n",
            "|year|\n",
            "+----+\n",
            "|1970|\n",
            "|1980|\n",
            "|1990|\n",
            "|2000|\n",
            "|2010|\n",
            "|2020|\n",
            "+----+\n",
            "\n"
          ]
        }
      ]
    },
    {
      "cell_type": "code",
      "source": [
        "Review = spark.sql(\"SELECT * FROM lyric_features ORDER BY year\")\n",
        "Review.show(3)"
      ],
      "metadata": {
        "colab": {
          "base_uri": "https://localhost:8080/"
        },
        "id": "Dm15Qx4I1Lyh",
        "outputId": "acb765e9-dbc6-41d9-8815-a526feeb8272"
      },
      "execution_count": 79,
      "outputs": [
        {
          "output_type": "stream",
          "name": "stdout",
          "text": [
            "+--------------------+-----+-------+----------+----+-------+----------+----------------+------------+--------------+------------+---------------+-------------+--------------+------------+--------------+------------+--------------------+\n",
            "|            track_id|genre|genreID|popularity|year|minutes|word_count|words_per_minute|unique_words|repetition_pct|stopword_pct|profanity_count|profanity_pct|positive_count|positive_pct|negative_count|negative_pct|              lyrics|\n",
            "+--------------------+-----+-------+----------+----+-------+----------+----------------+------------+--------------+------------+---------------+-------------+--------------+------------+--------------+------------+--------------------+\n",
            "|4GetBW8bJ8lB2Y9ug...| rock|      0|        26|1970|    4.8|        99|              20|          52|          0.47|        0.36|              0|          0.0|             2|        0.02|             3|        0.03|Oooh yeah Get you...|\n",
            "|4gMgiXfqyzZLMhsks...| rock|      0|        76|1970|    4.0|       555|             138|          45|          0.92|        0.37|              0|          0.0|             0|         0.0|            12|        0.02|We dont need no e...|\n",
            "|4GHvrcL0BoG2eDCM9...| rock|      0|         0|1970|    5.4|       296|              54|         117|           0.6|        0.47|              0|          0.0|             5|        0.02|            15|        0.05|Have you ever tho...|\n",
            "+--------------------+-----+-------+----------+----+-------+----------+----------------+------------+--------------+------------+---------------+-------------+--------------+------------+--------------+------------+--------------------+\n",
            "only showing top 3 rows\n",
            "\n"
          ]
        }
      ]
    },
    {
      "cell_type": "code",
      "source": [
        "#Review the averages of all the new columns by genre\n",
        "%%time\n",
        "avgs = spark.sql(\"SELECT genre, round(SUM(popularity)/COUNT(1),0) AS avg_popularity, round(SUM(minutes)/COUNT(1),1) AS avg_minutes, round(SUM(word_count)/COUNT(1),0) AS avg_word_count, round(SUM(words_per_minute)/COUNT(1),0) AS avg_words_per_minute, round(SUM(repetition_pct)/COUNT(1),2)  AS avg_repetition_pct, round(SUM(stopword_pct)/COUNT(1),2) AS avg_stopword_pct, round(SUM(profanity_count)/COUNT(1),2) as avg_profanity_count, round(SUM(profanity_pct)/COUNT(1),3) as avg_profanity_pct,  round(SUM(negative_count)/COUNT(1),0) AS avg_negative_count, round(SUM(negative_pct)/COUNT(1),2) AS avg_negative_pct, round(SUM(positive_count)/COUNT(1),0) as avg_positive_count, round(SUM(positive_pct)/COUNT(1),2) as avg_positive_pct FROM lyric_features GROUP BY genre ORDER BY 5\")\n",
        "avgs.show()"
      ],
      "metadata": {
        "id": "rLojiyTZXPzw",
        "colab": {
          "base_uri": "https://localhost:8080/"
        },
        "outputId": "d248b5df-b40d-4c07-b535-3b9fd2674552"
      },
      "execution_count": 68,
      "outputs": [
        {
          "output_type": "stream",
          "name": "stdout",
          "text": [
            "+-----+--------------+-----------+--------------+--------------------+------------------+----------------+-------------------+-----------------+------------------+----------------+------------------+----------------+\n",
            "|genre|avg_popularity|avg_minutes|avg_word_count|avg_words_per_minute|avg_repetition_pct|avg_stopword_pct|avg_profanity_count|avg_profanity_pct|avg_negative_count|avg_negative_pct|avg_positive_count|avg_positive_pct|\n",
            "+-----+--------------+-----------+--------------+--------------------+------------------+----------------+-------------------+-----------------+------------------+----------------+------------------+----------------+\n",
            "| rock|          42.0|        4.2|         250.0|                62.0|              0.69|            0.36|               0.33|            0.001|               9.0|            0.04|               8.0|            0.03|\n",
            "|  edm|          33.0|        3.7|         255.0|                72.0|              0.76|            0.36|               0.64|            0.005|               8.0|            0.03|              10.0|            0.04|\n",
            "|  r&b|          39.0|        4.1|         352.0|                88.0|               0.7|            0.37|                1.6|            0.004|              10.0|            0.03|              14.0|            0.04|\n",
            "|  pop|          48.0|        3.6|         404.0|               114.0|              0.75|            0.36|               0.94|            0.002|              13.0|            0.03|              15.0|            0.04|\n",
            "|  rap|          42.0|        3.8|         481.0|               130.0|              0.63|            0.34|              10.27|            0.021|              19.0|            0.04|              14.0|            0.03|\n",
            "+-----+--------------+-----------+--------------+--------------------+------------------+----------------+-------------------+-----------------+------------------+----------------+------------------+----------------+\n",
            "\n",
            "CPU times: user 7.13 ms, sys: 1.98 ms, total: 9.1 ms\n",
            "Wall time: 1.43 s\n"
          ]
        }
      ]
    },
    {
      "cell_type": "markdown",
      "source": [
        "# Join the new data with the original data to combine all fields"
      ],
      "metadata": {
        "id": "6s91ik5K4ppl"
      }
    },
    {
      "cell_type": "code",
      "source": [
        "doubleDataDF = spark.sql(\"SELECT a.track_id, a.track_name, a.track_artist, a.track_popularity, a.track_album_id, a.track_album_name, a.track_album_release_date, a.playlist_name, a.playlist_id, a.playlist_genre, a.playlist_subgenre, a.danceability, a.energy, a.key, a.loudness, a.mode, a.speechiness, a.acousticness, a.instrumentalness, a.liveness, a.valence, a.tempo, a.duration_ms, a.language, b.genreID, b.year, b.minutes, b.word_count, b.words_per_minute, b.repetition_pct, b.stopword_pct, b.profanity_pct, b.negative_pct, b.positive_pct, CASE WHEN b.positive_count > b.negative_count THEN 2 WHEN b.negative_count > b.positive_count THEN 0 ELSE 1 END AS Sentiment , b.lyrics AS words_only_lyrics FROM spotify_songs a JOIN lyric_features b ON a.track_id = b.track_id \")\n",
        "doubleDataDF.show(10)"
      ],
      "metadata": {
        "colab": {
          "base_uri": "https://localhost:8080/"
        },
        "id": "K6I6-tOo4wa2",
        "outputId": "703456f2-853e-44f1-9ef3-68d1d8497b0f"
      },
      "execution_count": 80,
      "outputs": [
        {
          "output_type": "stream",
          "name": "stdout",
          "text": [
            "+--------------------+--------------------+---------------+----------------+--------------------+--------------------+------------------------+--------------------+--------------------+--------------+------------------+------------+------+---+--------+----+-----------+------------+----------------+--------+-------+-------+-----------+--------+-------+----+-------+----------+----------------+--------------+------------+-------------+------------+------------+---------+--------------------+\n",
            "|            track_id|          track_name|   track_artist|track_popularity|      track_album_id|    track_album_name|track_album_release_date|       playlist_name|         playlist_id|playlist_genre| playlist_subgenre|danceability|energy|key|loudness|mode|speechiness|acousticness|instrumentalness|liveness|valence|  tempo|duration_ms|language|genreID|year|minutes|word_count|words_per_minute|repetition_pct|stopword_pct|profanity_pct|negative_pct|positive_pct|Sentiment|   words_only_lyrics|\n",
            "+--------------------+--------------------+---------------+----------------+--------------------+--------------------+------------------------+--------------------+--------------------+--------------+------------------+------------+------+---+--------+----+-----------+------------+----------------+--------+-------+-------+-----------+--------+-------+----+-------+----------+----------------+--------------+------------+-------------+------------+------------+---------+--------------------+\n",
            "|0EDQwboQDmswDRn58...|            Kingston|   Faye Webster|              59|4vt0V1SmkaK1Y440P...|Atlanta Millionai...|               5/24/2019|Ultimate Indie Pr...|37i9dQZF1DWTc5QDl...|           r&b|           hip pop|        0.73| 0.344| 10|  -9.541|   0|     0.0394|       0.138|         0.00128|   0.134|  0.543|142.129|     202160|      en|      2|2010|    3.4|       220|              64|          0.72|        0.42|          0.0|        0.01|        0.01|        2|The day that I me...|\n",
            "|0HaAoQJ1PgF0gIm1o...|Where Them Niggaz...|    Pastor Troy|               9|5almm5i3TH8NFWo1M...|    Face Off Part II|                3/1/2005|    Southern Hip Hop|57sYMLFXGD4Zqizzc...|           rap|  southern hip hop|       0.809| 0.866|  6|  -5.221|   0|      0.254|     0.00672|               0|    0.12|  0.558|142.102|     213053|      en|      3|2000|    3.6|       380|             105|          0.55|        0.28|         0.08|        0.09|        0.01|        0|This that hard sh...|\n",
            "|0i3utbege8Iy3q7Hy...|Klanga - De Hofna...|         Gostan|               5|4rcRFEkfAeLD4GMhe...|              Klanga|              11/28/2014|Chillout & Remixe...|4NlAd9NpIa92IjErM...|           pop|   indie poptimism|       0.719| 0.527|  6|  -9.077|   1|     0.0408|      0.0312|           0.716|   0.105|   0.58|123.955|     264293|      en|      1|2010|    4.4|       105|              23|          0.55|         0.3|         0.01|        0.01|        0.02|        2|Two thousand year...|\n",
            "|0IXpUl1fn2QZcBavf...|Living After Midn...|   Judas Priest|              63|5bqtZRbUZUxUps8mr...|       British Steel|                    1980|Workday: Rock Cla...|37i9dQZF1DX1lwxXv...|          rock|      classic rock|        0.61| 0.824|  4|  -6.046|   1|     0.0534|      0.0136|        1.75E-06|  0.0606|  0.819|134.992|     210133|      en|      0|1980|    3.5|       340|              97|           0.8|        0.25|          0.0|        0.01|        0.04|        2|Living after midn...|\n",
            "|0ooy3NjwsJreceWYC...|Never Let Me Down...|   Depeche Mode|              10|5Yyx661Ksxl2pmRUu...|Music for the Masses|               9/28/1987|Maxi Pop  GOLD (N...|2nRWtTI9a2LWjJ9Wy...|           pop|        electropop|       0.599| 0.719|  0|  -12.57|   1|     0.0288|       0.281|          0.0514|   0.693|  0.785| 106.08|     288000|      en|      1|1980|    4.8|       231|              48|          0.81|        0.38|          0.0|         0.0|        0.02|        2|Im taking a ride ...|\n",
            "|0QyIxB3MqUoSQX0kB...|Sweet Emotion - S...|      Aerosmith|              39|3VNTh6evo3MyUsStA...|Aerosmith's Great...|              11/11/1980|       70s Hard Rock|6pZlZ20vt3aDjIKw9...|          rock|         hard rock|       0.473| 0.787|  2|  -9.898|   1|     0.0317|      0.0131|        8.76E-04|  0.0913|  0.603| 99.893|     192733|      en|      0|1980|    3.2|       162|              50|          0.51|        0.35|          0.0|        0.02|        0.02|        2|NA Sweet emotion ...|\n",
            "|0tVv9FxhUjHrhF1DL...|         Fuji Opener|       Skrillex|              58|6xKK037rfCf2f6gf3...|         Show Tracks|               7/19/2019|          Nasty Bits|37i9dQZF1DX2VvACC...|           edm|     electro house|       0.662| 0.941|  1|  -1.641|   1|     0.0626|    3.75E-04|           0.029|   0.292|  0.579|149.982|     167200|      en|      4|2010|    2.8|        14|               5|          0.43|        0.29|          0.0|         0.0|        0.07|        2|Pop watch me pop ...|\n",
            "|0yxWY5cPaPUpeAoqS...|         Tropic Love|       Diviners|              53|2iyxWjV2Rfe04h4uz...|         Tropic Love|               3/26/2015|          ElectroPop|0cuHKz65ZPqBX1brG...|           pop|        electropop|       0.746| 0.809|  2|  -6.429|   1|     0.0329|       0.236|        2.59E-05|   0.235|  0.493|104.989|     299440|      en|      1|2010|    5.0|       558|             111|          0.91|        0.37|          0.0|        0.02|        0.02|        1|I remember the oc...|\n",
            "|15Trb1S2FDZSMLDzW...|            Promises|The Cranberries|              56|2v9PjvIkQVnyQdtD1...|    Bury The Hatchet|               4/19/1999|The Cranberries B...|4E3K9oQgvLcKEz0wg...|          rock|        album rock|       0.501| 0.864|  4|  -3.231|   0|     0.0502|      0.0628|               0|   0.169|  0.247|130.063|     327573|      en|      0|1990|    5.5|       355|              64|          0.79|        0.44|          0.0|        0.04|        0.03|        0|Ooh ooh ooh ohh O...|\n",
            "|1Ahp4PZ1vzdbzBCed...|             The One|    Jorja Smith|              62|3AlSuZnX4ZCab8eoW...|        Lost & Found|                6/8/2018|  urban CONTEMPORARY|1nFfDHtp8RY3obgen...|           r&b|urban contemporary|       0.312| 0.661|  0|  -8.508|   0|      0.092|       0.252|        1.35E-04|   0.102|  0.443|  82.39|     197575|      en|      2|2010|    3.3|        69|              20|          0.45|        0.32|          0.0|        0.03|        0.04|        2|Never had to work...|\n",
            "+--------------------+--------------------+---------------+----------------+--------------------+--------------------+------------------------+--------------------+--------------------+--------------+------------------+------------+------+---+--------+----+-----------+------------+----------------+--------+-------+-------+-----------+--------+-------+----+-------+----------+----------------+--------------+------------+-------------+------------+------------+---------+--------------------+\n",
            "only showing top 10 rows\n",
            "\n"
          ]
        }
      ]
    },
    {
      "cell_type": "code",
      "source": [
        "doubleDataDF.createOrReplaceTempView(\"all_features\")"
      ],
      "metadata": {
        "id": "Pqj73fIBZLIz"
      },
      "execution_count": 71,
      "outputs": []
    },
    {
      "cell_type": "code",
      "source": [
        "#Review the averages of all the new columns by genre\n",
        "%%time\n",
        "moreAvgs = spark.sql(\"SELECT playlist_genre, round(SUM(danceability)/COUNT(1),2) AS avg_danceability, round(SUM(energy)/COUNT(1),2) AS avg_energy, round(SUM(loudness)/COUNT(1),2) AS avg_loudness, round(SUM(speechiness)/COUNT(1),2) AS avg_speechiness, round(SUM(acousticness)/COUNT(1),2)  AS avg_acousticness, round(SUM(instrumentalness)/COUNT(1),2) AS avg_instrumentalness, round(SUM(liveness)/COUNT(1),2) as avg_liveness, round(SUM(valence)/COUNT(1),2) AS avg_valence, round(SUM(tempo)/COUNT(1),0) as avg_tempo FROM all_features GROUP BY playlist_genre\")\n",
        "moreAvgs.show()"
      ],
      "metadata": {
        "colab": {
          "base_uri": "https://localhost:8080/"
        },
        "id": "I4cY9FYo1wpc",
        "outputId": "633e728c-7576-401f-ddce-a80c5f81f66f"
      },
      "execution_count": 73,
      "outputs": [
        {
          "output_type": "stream",
          "name": "stdout",
          "text": [
            "+--------------+----------------+----------+------------+---------------+----------------+--------------------+------------+-----------+---------+\n",
            "|playlist_genre|avg_danceability|avg_energy|avg_loudness|avg_speechiness|avg_acousticness|avg_instrumentalness|avg_liveness|avg_valence|avg_tempo|\n",
            "+--------------+----------------+----------+------------+---------------+----------------+--------------------+------------+-----------+---------+\n",
            "|           r&b|            0.67|      0.58|       -8.01|           0.11|            0.26|                0.02|        0.17|       0.54|    114.0|\n",
            "|           pop|            0.64|       0.7|       -6.28|           0.07|            0.17|                0.05|        0.18|       0.51|    121.0|\n",
            "|           edm|            0.64|       0.8|        -5.0|           0.08|            0.08|                 0.1|        0.21|       0.41|    126.0|\n",
            "|           rap|            0.72|      0.68|       -6.62|           0.21|            0.13|                0.02|         0.2|       0.51|    121.0|\n",
            "|          rock|            0.52|      0.74|       -7.53|           0.06|            0.14|                0.06|         0.2|       0.53|    125.0|\n",
            "+--------------+----------------+----------+------------+---------------+----------------+--------------------+------------+-----------+---------+\n",
            "\n",
            "CPU times: user 15.2 ms, sys: 3.35 ms, total: 18.5 ms\n",
            "Wall time: 2.83 s\n"
          ]
        }
      ]
    },
    {
      "cell_type": "code",
      "source": [
        "#save the cobined data frame to a csv file so that we will not have to recalulate it every time\n",
        "%%time\n",
        "doubleDataPD = doubleDataDF.toPandas()"
      ],
      "metadata": {
        "colab": {
          "base_uri": "https://localhost:8080/"
        },
        "outputId": "29f92a24-bc50-418c-a361-8df5df8ad1e3",
        "id": "xa3jtopSmh5U"
      },
      "execution_count": 86,
      "outputs": [
        {
          "output_type": "stream",
          "name": "stdout",
          "text": [
            "CPU times: user 356 ms, sys: 33.2 ms, total: 389 ms\n",
            "Wall time: 886 ms\n"
          ]
        }
      ]
    },
    {
      "cell_type": "code",
      "source": [
        "doubleDataPD.index = doubleDataPD.pop(\"track_id\")\n",
        "doubleDataPD.head(5)"
      ],
      "metadata": {
        "colab": {
          "base_uri": "https://localhost:8080/",
          "height": 522
        },
        "id": "SOKTsoHbm0Hq",
        "outputId": "9370dd2e-244d-421f-ab0c-3d907612b041"
      },
      "execution_count": 87,
      "outputs": [
        {
          "output_type": "execute_result",
          "data": {
            "text/plain": [
              "                                      track_name  track_artist  \\\n",
              "track_id                                                         \n",
              "0EDQwboQDmswDRn58wcslg                  Kingston  Faye Webster   \n",
              "0HaAoQJ1PgF0gIm1o6JYIM     Where Them Niggaz At?   Pastor Troy   \n",
              "0i3utbege8Iy3q7Hy86QCF  Klanga - De Hofnar Remix        Gostan   \n",
              "0IXpUl1fn2QZcBavfuq0H4     Living After Midnight  Judas Priest   \n",
              "0ooy3NjwsJreceWYCxlfQt   Never Let Me Down Again  Depeche Mode   \n",
              "\n",
              "                       track_popularity          track_album_id  \\\n",
              "track_id                                                          \n",
              "0EDQwboQDmswDRn58wcslg               59  4vt0V1SmkaK1Y440P5Nsb4   \n",
              "0HaAoQJ1PgF0gIm1o6JYIM                9  5almm5i3TH8NFWo1M1iEJ1   \n",
              "0i3utbege8Iy3q7Hy86QCF                5  4rcRFEkfAeLD4GMheeTSny   \n",
              "0IXpUl1fn2QZcBavfuq0H4               63  5bqtZRbUZUxUps8mrO9tGY   \n",
              "0ooy3NjwsJreceWYCxlfQt               10  5Yyx661Ksxl2pmRUuGLzw3   \n",
              "\n",
              "                                 track_album_name track_album_release_date  \\\n",
              "track_id                                                                     \n",
              "0EDQwboQDmswDRn58wcslg  Atlanta Millionaires Club                5/24/2019   \n",
              "0HaAoQJ1PgF0gIm1o6JYIM           Face Off Part II                 3/1/2005   \n",
              "0i3utbege8Iy3q7Hy86QCF                     Klanga               11/28/2014   \n",
              "0IXpUl1fn2QZcBavfuq0H4              British Steel                     1980   \n",
              "0ooy3NjwsJreceWYCxlfQt       Music for the Masses                9/28/1987   \n",
              "\n",
              "                                                            playlist_name  \\\n",
              "track_id                                                                    \n",
              "0EDQwboQDmswDRn58wcslg     Ultimate Indie Presents... Best Tracks of 2019   \n",
              "0HaAoQJ1PgF0gIm1o6JYIM                                   Southern Hip Hop   \n",
              "0i3utbege8Iy3q7Hy86QCF                               Chillout & Remixes 💜   \n",
              "0IXpUl1fn2QZcBavfuq0H4                             Workday: Rock Classics   \n",
              "0ooy3NjwsJreceWYCxlfQt  Maxi Pop  GOLD (New Wave, Electropop, Synth Po...   \n",
              "\n",
              "                                   playlist_id playlist_genre  \\\n",
              "track_id                                                        \n",
              "0EDQwboQDmswDRn58wcslg  37i9dQZF1DWTc5QDlvD7t0            r&b   \n",
              "0HaAoQJ1PgF0gIm1o6JYIM  57sYMLFXGD4ZqizzcMD7lz            rap   \n",
              "0i3utbege8Iy3q7Hy86QCF  4NlAd9NpIa92IjErMyAriM            pop   \n",
              "0IXpUl1fn2QZcBavfuq0H4  37i9dQZF1DX1lwxXvReaux           rock   \n",
              "0ooy3NjwsJreceWYCxlfQt  2nRWtTI9a2LWjJ9Wy3JZs5            pop   \n",
              "\n",
              "                       playlist_subgenre  ... minutes word_count  \\\n",
              "track_id                                  ...                      \n",
              "0EDQwboQDmswDRn58wcslg           hip pop  ...     3.4        220   \n",
              "0HaAoQJ1PgF0gIm1o6JYIM  southern hip hop  ...     3.6        380   \n",
              "0i3utbege8Iy3q7Hy86QCF   indie poptimism  ...     4.4        105   \n",
              "0IXpUl1fn2QZcBavfuq0H4      classic rock  ...     3.5        340   \n",
              "0ooy3NjwsJreceWYCxlfQt        electropop  ...     4.8        231   \n",
              "\n",
              "                       words_per_minute repetition_pct stopword_pct  \\\n",
              "track_id                                                              \n",
              "0EDQwboQDmswDRn58wcslg               64           0.72         0.42   \n",
              "0HaAoQJ1PgF0gIm1o6JYIM              105           0.55         0.28   \n",
              "0i3utbege8Iy3q7Hy86QCF               23           0.55         0.30   \n",
              "0IXpUl1fn2QZcBavfuq0H4               97           0.80         0.25   \n",
              "0ooy3NjwsJreceWYCxlfQt               48           0.81         0.38   \n",
              "\n",
              "                       profanity_pct negative_pct positive_pct Sentiment  \\\n",
              "track_id                                                                   \n",
              "0EDQwboQDmswDRn58wcslg          0.00         0.01         0.01         2   \n",
              "0HaAoQJ1PgF0gIm1o6JYIM          0.08         0.09         0.01         0   \n",
              "0i3utbege8Iy3q7Hy86QCF          0.01         0.01         0.02         2   \n",
              "0IXpUl1fn2QZcBavfuq0H4          0.00         0.01         0.04         2   \n",
              "0ooy3NjwsJreceWYCxlfQt          0.00         0.00         0.02         2   \n",
              "\n",
              "                                                        words_only_lyrics  \n",
              "track_id                                                                   \n",
              "0EDQwboQDmswDRn58wcslg  The day that I met you I started dreaming Now ...  \n",
              "0HaAoQJ1PgF0gIm1o6JYIM  This that hard shit hard shit This that hard s...  \n",
              "0i3utbege8Iy3q7Hy86QCF  Two thousand years ago Two thousand years ago ...  \n",
              "0IXpUl1fn2QZcBavfuq0H4  Living after midnight Rocking to the dawn Lovi...  \n",
              "0ooy3NjwsJreceWYCxlfQt  Im taking a ride with my best friend I hope he...  \n",
              "\n",
              "[5 rows x 35 columns]"
            ],
            "text/html": [
              "\n",
              "  <div id=\"df-90528f1e-6ba7-40c6-9b80-31ca0feb8189\">\n",
              "    <div class=\"colab-df-container\">\n",
              "      <div>\n",
              "<style scoped>\n",
              "    .dataframe tbody tr th:only-of-type {\n",
              "        vertical-align: middle;\n",
              "    }\n",
              "\n",
              "    .dataframe tbody tr th {\n",
              "        vertical-align: top;\n",
              "    }\n",
              "\n",
              "    .dataframe thead th {\n",
              "        text-align: right;\n",
              "    }\n",
              "</style>\n",
              "<table border=\"1\" class=\"dataframe\">\n",
              "  <thead>\n",
              "    <tr style=\"text-align: right;\">\n",
              "      <th></th>\n",
              "      <th>track_name</th>\n",
              "      <th>track_artist</th>\n",
              "      <th>track_popularity</th>\n",
              "      <th>track_album_id</th>\n",
              "      <th>track_album_name</th>\n",
              "      <th>track_album_release_date</th>\n",
              "      <th>playlist_name</th>\n",
              "      <th>playlist_id</th>\n",
              "      <th>playlist_genre</th>\n",
              "      <th>playlist_subgenre</th>\n",
              "      <th>...</th>\n",
              "      <th>minutes</th>\n",
              "      <th>word_count</th>\n",
              "      <th>words_per_minute</th>\n",
              "      <th>repetition_pct</th>\n",
              "      <th>stopword_pct</th>\n",
              "      <th>profanity_pct</th>\n",
              "      <th>negative_pct</th>\n",
              "      <th>positive_pct</th>\n",
              "      <th>Sentiment</th>\n",
              "      <th>words_only_lyrics</th>\n",
              "    </tr>\n",
              "    <tr>\n",
              "      <th>track_id</th>\n",
              "      <th></th>\n",
              "      <th></th>\n",
              "      <th></th>\n",
              "      <th></th>\n",
              "      <th></th>\n",
              "      <th></th>\n",
              "      <th></th>\n",
              "      <th></th>\n",
              "      <th></th>\n",
              "      <th></th>\n",
              "      <th></th>\n",
              "      <th></th>\n",
              "      <th></th>\n",
              "      <th></th>\n",
              "      <th></th>\n",
              "      <th></th>\n",
              "      <th></th>\n",
              "      <th></th>\n",
              "      <th></th>\n",
              "      <th></th>\n",
              "      <th></th>\n",
              "    </tr>\n",
              "  </thead>\n",
              "  <tbody>\n",
              "    <tr>\n",
              "      <th>0EDQwboQDmswDRn58wcslg</th>\n",
              "      <td>Kingston</td>\n",
              "      <td>Faye Webster</td>\n",
              "      <td>59</td>\n",
              "      <td>4vt0V1SmkaK1Y440P5Nsb4</td>\n",
              "      <td>Atlanta Millionaires Club</td>\n",
              "      <td>5/24/2019</td>\n",
              "      <td>Ultimate Indie Presents... Best Tracks of 2019</td>\n",
              "      <td>37i9dQZF1DWTc5QDlvD7t0</td>\n",
              "      <td>r&amp;b</td>\n",
              "      <td>hip pop</td>\n",
              "      <td>...</td>\n",
              "      <td>3.4</td>\n",
              "      <td>220</td>\n",
              "      <td>64</td>\n",
              "      <td>0.72</td>\n",
              "      <td>0.42</td>\n",
              "      <td>0.00</td>\n",
              "      <td>0.01</td>\n",
              "      <td>0.01</td>\n",
              "      <td>2</td>\n",
              "      <td>The day that I met you I started dreaming Now ...</td>\n",
              "    </tr>\n",
              "    <tr>\n",
              "      <th>0HaAoQJ1PgF0gIm1o6JYIM</th>\n",
              "      <td>Where Them Niggaz At?</td>\n",
              "      <td>Pastor Troy</td>\n",
              "      <td>9</td>\n",
              "      <td>5almm5i3TH8NFWo1M1iEJ1</td>\n",
              "      <td>Face Off Part II</td>\n",
              "      <td>3/1/2005</td>\n",
              "      <td>Southern Hip Hop</td>\n",
              "      <td>57sYMLFXGD4ZqizzcMD7lz</td>\n",
              "      <td>rap</td>\n",
              "      <td>southern hip hop</td>\n",
              "      <td>...</td>\n",
              "      <td>3.6</td>\n",
              "      <td>380</td>\n",
              "      <td>105</td>\n",
              "      <td>0.55</td>\n",
              "      <td>0.28</td>\n",
              "      <td>0.08</td>\n",
              "      <td>0.09</td>\n",
              "      <td>0.01</td>\n",
              "      <td>0</td>\n",
              "      <td>This that hard shit hard shit This that hard s...</td>\n",
              "    </tr>\n",
              "    <tr>\n",
              "      <th>0i3utbege8Iy3q7Hy86QCF</th>\n",
              "      <td>Klanga - De Hofnar Remix</td>\n",
              "      <td>Gostan</td>\n",
              "      <td>5</td>\n",
              "      <td>4rcRFEkfAeLD4GMheeTSny</td>\n",
              "      <td>Klanga</td>\n",
              "      <td>11/28/2014</td>\n",
              "      <td>Chillout &amp; Remixes 💜</td>\n",
              "      <td>4NlAd9NpIa92IjErMyAriM</td>\n",
              "      <td>pop</td>\n",
              "      <td>indie poptimism</td>\n",
              "      <td>...</td>\n",
              "      <td>4.4</td>\n",
              "      <td>105</td>\n",
              "      <td>23</td>\n",
              "      <td>0.55</td>\n",
              "      <td>0.30</td>\n",
              "      <td>0.01</td>\n",
              "      <td>0.01</td>\n",
              "      <td>0.02</td>\n",
              "      <td>2</td>\n",
              "      <td>Two thousand years ago Two thousand years ago ...</td>\n",
              "    </tr>\n",
              "    <tr>\n",
              "      <th>0IXpUl1fn2QZcBavfuq0H4</th>\n",
              "      <td>Living After Midnight</td>\n",
              "      <td>Judas Priest</td>\n",
              "      <td>63</td>\n",
              "      <td>5bqtZRbUZUxUps8mrO9tGY</td>\n",
              "      <td>British Steel</td>\n",
              "      <td>1980</td>\n",
              "      <td>Workday: Rock Classics</td>\n",
              "      <td>37i9dQZF1DX1lwxXvReaux</td>\n",
              "      <td>rock</td>\n",
              "      <td>classic rock</td>\n",
              "      <td>...</td>\n",
              "      <td>3.5</td>\n",
              "      <td>340</td>\n",
              "      <td>97</td>\n",
              "      <td>0.80</td>\n",
              "      <td>0.25</td>\n",
              "      <td>0.00</td>\n",
              "      <td>0.01</td>\n",
              "      <td>0.04</td>\n",
              "      <td>2</td>\n",
              "      <td>Living after midnight Rocking to the dawn Lovi...</td>\n",
              "    </tr>\n",
              "    <tr>\n",
              "      <th>0ooy3NjwsJreceWYCxlfQt</th>\n",
              "      <td>Never Let Me Down Again</td>\n",
              "      <td>Depeche Mode</td>\n",
              "      <td>10</td>\n",
              "      <td>5Yyx661Ksxl2pmRUuGLzw3</td>\n",
              "      <td>Music for the Masses</td>\n",
              "      <td>9/28/1987</td>\n",
              "      <td>Maxi Pop  GOLD (New Wave, Electropop, Synth Po...</td>\n",
              "      <td>2nRWtTI9a2LWjJ9Wy3JZs5</td>\n",
              "      <td>pop</td>\n",
              "      <td>electropop</td>\n",
              "      <td>...</td>\n",
              "      <td>4.8</td>\n",
              "      <td>231</td>\n",
              "      <td>48</td>\n",
              "      <td>0.81</td>\n",
              "      <td>0.38</td>\n",
              "      <td>0.00</td>\n",
              "      <td>0.00</td>\n",
              "      <td>0.02</td>\n",
              "      <td>2</td>\n",
              "      <td>Im taking a ride with my best friend I hope he...</td>\n",
              "    </tr>\n",
              "  </tbody>\n",
              "</table>\n",
              "<p>5 rows × 35 columns</p>\n",
              "</div>\n",
              "      <button class=\"colab-df-convert\" onclick=\"convertToInteractive('df-90528f1e-6ba7-40c6-9b80-31ca0feb8189')\"\n",
              "              title=\"Convert this dataframe to an interactive table.\"\n",
              "              style=\"display:none;\">\n",
              "        \n",
              "  <svg xmlns=\"http://www.w3.org/2000/svg\" height=\"24px\"viewBox=\"0 0 24 24\"\n",
              "       width=\"24px\">\n",
              "    <path d=\"M0 0h24v24H0V0z\" fill=\"none\"/>\n",
              "    <path d=\"M18.56 5.44l.94 2.06.94-2.06 2.06-.94-2.06-.94-.94-2.06-.94 2.06-2.06.94zm-11 1L8.5 8.5l.94-2.06 2.06-.94-2.06-.94L8.5 2.5l-.94 2.06-2.06.94zm10 10l.94 2.06.94-2.06 2.06-.94-2.06-.94-.94-2.06-.94 2.06-2.06.94z\"/><path d=\"M17.41 7.96l-1.37-1.37c-.4-.4-.92-.59-1.43-.59-.52 0-1.04.2-1.43.59L10.3 9.45l-7.72 7.72c-.78.78-.78 2.05 0 2.83L4 21.41c.39.39.9.59 1.41.59.51 0 1.02-.2 1.41-.59l7.78-7.78 2.81-2.81c.8-.78.8-2.07 0-2.86zM5.41 20L4 18.59l7.72-7.72 1.47 1.35L5.41 20z\"/>\n",
              "  </svg>\n",
              "      </button>\n",
              "      \n",
              "  <style>\n",
              "    .colab-df-container {\n",
              "      display:flex;\n",
              "      flex-wrap:wrap;\n",
              "      gap: 12px;\n",
              "    }\n",
              "\n",
              "    .colab-df-convert {\n",
              "      background-color: #E8F0FE;\n",
              "      border: none;\n",
              "      border-radius: 50%;\n",
              "      cursor: pointer;\n",
              "      display: none;\n",
              "      fill: #1967D2;\n",
              "      height: 32px;\n",
              "      padding: 0 0 0 0;\n",
              "      width: 32px;\n",
              "    }\n",
              "\n",
              "    .colab-df-convert:hover {\n",
              "      background-color: #E2EBFA;\n",
              "      box-shadow: 0px 1px 2px rgba(60, 64, 67, 0.3), 0px 1px 3px 1px rgba(60, 64, 67, 0.15);\n",
              "      fill: #174EA6;\n",
              "    }\n",
              "\n",
              "    [theme=dark] .colab-df-convert {\n",
              "      background-color: #3B4455;\n",
              "      fill: #D2E3FC;\n",
              "    }\n",
              "\n",
              "    [theme=dark] .colab-df-convert:hover {\n",
              "      background-color: #434B5C;\n",
              "      box-shadow: 0px 1px 3px 1px rgba(0, 0, 0, 0.15);\n",
              "      filter: drop-shadow(0px 1px 2px rgba(0, 0, 0, 0.3));\n",
              "      fill: #FFFFFF;\n",
              "    }\n",
              "  </style>\n",
              "\n",
              "      <script>\n",
              "        const buttonEl =\n",
              "          document.querySelector('#df-90528f1e-6ba7-40c6-9b80-31ca0feb8189 button.colab-df-convert');\n",
              "        buttonEl.style.display =\n",
              "          google.colab.kernel.accessAllowed ? 'block' : 'none';\n",
              "\n",
              "        async function convertToInteractive(key) {\n",
              "          const element = document.querySelector('#df-90528f1e-6ba7-40c6-9b80-31ca0feb8189');\n",
              "          const dataTable =\n",
              "            await google.colab.kernel.invokeFunction('convertToInteractive',\n",
              "                                                     [key], {});\n",
              "          if (!dataTable) return;\n",
              "\n",
              "          const docLinkHtml = 'Like what you see? Visit the ' +\n",
              "            '<a target=\"_blank\" href=https://colab.research.google.com/notebooks/data_table.ipynb>data table notebook</a>'\n",
              "            + ' to learn more about interactive tables.';\n",
              "          element.innerHTML = '';\n",
              "          dataTable['output_type'] = 'display_data';\n",
              "          await google.colab.output.renderOutput(dataTable, element);\n",
              "          const docLink = document.createElement('div');\n",
              "          docLink.innerHTML = docLinkHtml;\n",
              "          element.appendChild(docLink);\n",
              "        }\n",
              "      </script>\n",
              "    </div>\n",
              "  </div>\n",
              "  "
            ]
          },
          "metadata": {},
          "execution_count": 87
        }
      ]
    },
    {
      "cell_type": "code",
      "source": [],
      "metadata": {
        "id": "RBK9g_XImf6t"
      },
      "execution_count": null,
      "outputs": []
    },
    {
      "cell_type": "code",
      "source": [
        "#save the cobined data frame to a csv file so that we will not have to recalulate it every time\n",
        "doubleDataPD.to_csv(myPath + \"spotify_with_word_counts.csv\")\n"
      ],
      "metadata": {
        "id": "-5jBr6NHdJql"
      },
      "execution_count": 90,
      "outputs": []
    }
  ]
}